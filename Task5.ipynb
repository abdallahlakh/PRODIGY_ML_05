{
 "cells": [
  {
   "cell_type": "markdown",
   "id": "b0d1df56-3fb9-476f-9ada-8c82b90af371",
   "metadata": {},
   "source": [
    "# Task 5:"
   ]
  },
  {
   "cell_type": "markdown",
   "id": "3e53fd0f-c35d-462d-bf1d-757f669216bf",
   "metadata": {},
   "source": [
    "# food images classfication using neural network "
   ]
  },
  {
   "cell_type": "markdown",
   "id": "a3527c35-74b7-4ec1-88ba-594c30a45b09",
   "metadata": {},
   "source": [
    "# importing the packages "
   ]
  },
  {
   "cell_type": "code",
   "execution_count": 5,
   "id": "3688df6a-3b5b-4792-9837-27652982c010",
   "metadata": {},
   "outputs": [],
   "source": [
    "from pathlib import Path\n",
    "import os\n",
    "import numpy as np\n",
    "import pandas as pd\n",
    "import tensorflow as tf\n",
    "import matplotlib.pyplot as plt\n",
    "import seaborn as sns\n",
    "from sklearn.model_selection import train_test_split\n",
    "from tensorflow.keras import models,layers\n",
    "from sklearn.metrics import confusion_matrix\n",
    "from tensorflow.keras.preprocessing.image import load_img, img_to_array\n",
    "from tensorflow.keras.utils import to_categorical\n",
    "from sklearn.preprocessing import LabelEncoder\n",
    "import random"
   ]
  },
  {
   "cell_type": "markdown",
   "id": "0f359ef0-f520-4862-875c-a1c6260f5516",
   "metadata": {},
   "source": [
    "# preparing the data"
   ]
  },
  {
   "cell_type": "code",
   "execution_count": 2,
   "id": "66afa18b-a2bf-4960-bd45-2adeef70366b",
   "metadata": {},
   "outputs": [],
   "source": [
    "image_dir = Path(r'C:\\Users\\Abdallah\\Documents\\Task5\\Data\\food-101\\food-101\\images')"
   ]
  },
  {
   "cell_type": "markdown",
   "id": "18d23732-2973-480d-961f-f9f11921c8b1",
   "metadata": {},
   "source": [
    "## extracting all the images paths"
   ]
  },
  {
   "cell_type": "code",
   "execution_count": 3,
   "id": "537d56c9-f288-4ac1-86d9-01420dd4e6d5",
   "metadata": {},
   "outputs": [],
   "source": [
    "filepaths = list(image_dir.glob(r'**/*.jpg'))"
   ]
  },
  {
   "cell_type": "markdown",
   "id": "d7f88177-5906-4763-b888-3d21d86173c3",
   "metadata": {},
   "source": [
    "## see how the images paths are structured"
   ]
  },
  {
   "cell_type": "code",
   "execution_count": 6,
   "id": "09d1c624-5c2a-4b67-9a69-7044c3cfacdc",
   "metadata": {},
   "outputs": [],
   "source": [
    "selected_files = random.choices(filepaths, k=3)"
   ]
  },
  {
   "cell_type": "code",
   "execution_count": 7,
   "id": "4d468439-77e7-456a-a349-ec0e1e2cdfea",
   "metadata": {},
   "outputs": [
    {
     "data": {
      "text/plain": [
       "[WindowsPath('C:/Users/Abdallah/Documents/Task5/Data/food-101/food-101/images/chocolate_cake/126340.jpg'),\n",
       " WindowsPath('C:/Users/Abdallah/Documents/Task5/Data/food-101/food-101/images/oysters/2763889.jpg'),\n",
       " WindowsPath('C:/Users/Abdallah/Documents/Task5/Data/food-101/food-101/images/guacamole/796559.jpg')]"
      ]
     },
     "execution_count": 7,
     "metadata": {},
     "output_type": "execute_result"
    }
   ],
   "source": [
    "selected_files"
   ]
  },
  {
   "cell_type": "markdown",
   "id": "d1b0872f-4b5b-4c86-9760-e032f464ab3a",
   "metadata": {},
   "source": [
    "### we see that the type of food is the first sub-directory of each .jpg image so for that let's try to extract it "
   ]
  },
  {
   "cell_type": "code",
   "execution_count": 13,
   "id": "14c12114-fe9d-479d-9bc5-1a9ee8e97d90",
   "metadata": {},
   "outputs": [
    {
     "data": {
      "text/plain": [
       "('C:\\\\Users\\\\Abdallah\\\\Documents\\\\Task5\\\\Data\\\\food-101\\\\food-101\\\\images\\\\chocolate_cake',\n",
       " '126340.jpg')"
      ]
     },
     "execution_count": 13,
     "metadata": {},
     "output_type": "execute_result"
    }
   ],
   "source": [
    "os.path.split(selected_files[0])"
   ]
  },
  {
   "cell_type": "markdown",
   "id": "e5674087-6b12-4bbe-aabf-455bcf83e2b5",
   "metadata": {},
   "source": [
    "### it's split the path to two elements ## all the path except the last element of path and the last element of path \n",
    "### lets try to split two times to extract the folder of food type "
   ]
  },
  {
   "cell_type": "code",
   "execution_count": 14,
   "id": "7bbbf21e-89f8-47a4-a76a-622cf51a8300",
   "metadata": {
    "scrolled": true
   },
   "outputs": [
    {
     "data": {
      "text/plain": [
       "('C:\\\\Users\\\\Abdallah\\\\Documents\\\\Task5\\\\Data\\\\food-101\\\\food-101\\\\images',\n",
       " 'chocolate_cake')"
      ]
     },
     "execution_count": 14,
     "metadata": {},
     "output_type": "execute_result"
    }
   ],
   "source": [
    "os.path.split(os.path.split(selected_files[0])[0])"
   ]
  },
  {
   "cell_type": "markdown",
   "id": "9f617185-5dba-493d-a498-e4fb1fa3d26f",
   "metadata": {},
   "source": [
    "### in the second element of tuple there is the food type of image  \n",
    "### let's try to loop in all the image paths and extract the food type of each image"
   ]
  },
  {
   "cell_type": "code",
   "execution_count": 15,
   "id": "dbf3bee6-13d0-497b-b8c9-efee4ee22d99",
   "metadata": {},
   "outputs": [],
   "source": [
    "labels = list(map(lambda x: os.path.split(os.path.split(x)[0])[1], filepaths))"
   ]
  },
  {
   "cell_type": "code",
   "execution_count": 18,
   "id": "e81c9d92-3590-4b08-aa59-d4ac9e1ff9d1",
   "metadata": {},
   "outputs": [],
   "source": [
    "filepaths = pd.Series(filepaths, name='Filepath').astype(str)"
   ]
  },
  {
   "cell_type": "markdown",
   "id": "c8b0cb64-16fb-4d9d-a99b-936b2a6b075e",
   "metadata": {},
   "source": [
    "## it's seems almost done !!! but now let's try to concat the labeles of food-type and image_paths using pandas "
   ]
  },
  {
   "cell_type": "code",
   "execution_count": 19,
   "id": "3e4faa57-a10d-4fde-ac64-105ec0d3bc85",
   "metadata": {},
   "outputs": [],
   "source": [
    "labels = pd.Series(labels, name='Label')\n"
   ]
  },
  {
   "cell_type": "code",
   "execution_count": 20,
   "id": "b8946423-3dd6-466e-8562-5518ec96c696",
   "metadata": {},
   "outputs": [],
   "source": [
    "images = pd.concat([filepaths, labels], axis=1)"
   ]
  },
  {
   "cell_type": "code",
   "execution_count": 105,
   "id": "3b557305-d2ac-4866-8ce3-35e0f155adcd",
   "metadata": {
    "scrolled": true
   },
   "outputs": [
    {
     "data": {
      "text/html": [
       "<div>\n",
       "<style scoped>\n",
       "    .dataframe tbody tr th:only-of-type {\n",
       "        vertical-align: middle;\n",
       "    }\n",
       "\n",
       "    .dataframe tbody tr th {\n",
       "        vertical-align: top;\n",
       "    }\n",
       "\n",
       "    .dataframe thead th {\n",
       "        text-align: right;\n",
       "    }\n",
       "</style>\n",
       "<table border=\"1\" class=\"dataframe\">\n",
       "  <thead>\n",
       "    <tr style=\"text-align: right;\">\n",
       "      <th></th>\n",
       "      <th>Filepath</th>\n",
       "      <th>Label</th>\n",
       "    </tr>\n",
       "  </thead>\n",
       "  <tbody>\n",
       "    <tr>\n",
       "      <th>0</th>\n",
       "      <td>C:\\Users\\Abdallah\\Documents\\Task5\\Data\\food-10...</td>\n",
       "      <td>apple_pie</td>\n",
       "    </tr>\n",
       "    <tr>\n",
       "      <th>1</th>\n",
       "      <td>C:\\Users\\Abdallah\\Documents\\Task5\\Data\\food-10...</td>\n",
       "      <td>apple_pie</td>\n",
       "    </tr>\n",
       "    <tr>\n",
       "      <th>2</th>\n",
       "      <td>C:\\Users\\Abdallah\\Documents\\Task5\\Data\\food-10...</td>\n",
       "      <td>apple_pie</td>\n",
       "    </tr>\n",
       "    <tr>\n",
       "      <th>3</th>\n",
       "      <td>C:\\Users\\Abdallah\\Documents\\Task5\\Data\\food-10...</td>\n",
       "      <td>apple_pie</td>\n",
       "    </tr>\n",
       "    <tr>\n",
       "      <th>4</th>\n",
       "      <td>C:\\Users\\Abdallah\\Documents\\Task5\\Data\\food-10...</td>\n",
       "      <td>apple_pie</td>\n",
       "    </tr>\n",
       "    <tr>\n",
       "      <th>...</th>\n",
       "      <td>...</td>\n",
       "      <td>...</td>\n",
       "    </tr>\n",
       "    <tr>\n",
       "      <th>100995</th>\n",
       "      <td>C:\\Users\\Abdallah\\Documents\\Task5\\Data\\food-10...</td>\n",
       "      <td>waffles</td>\n",
       "    </tr>\n",
       "    <tr>\n",
       "      <th>100996</th>\n",
       "      <td>C:\\Users\\Abdallah\\Documents\\Task5\\Data\\food-10...</td>\n",
       "      <td>waffles</td>\n",
       "    </tr>\n",
       "    <tr>\n",
       "      <th>100997</th>\n",
       "      <td>C:\\Users\\Abdallah\\Documents\\Task5\\Data\\food-10...</td>\n",
       "      <td>waffles</td>\n",
       "    </tr>\n",
       "    <tr>\n",
       "      <th>100998</th>\n",
       "      <td>C:\\Users\\Abdallah\\Documents\\Task5\\Data\\food-10...</td>\n",
       "      <td>waffles</td>\n",
       "    </tr>\n",
       "    <tr>\n",
       "      <th>100999</th>\n",
       "      <td>C:\\Users\\Abdallah\\Documents\\Task5\\Data\\food-10...</td>\n",
       "      <td>waffles</td>\n",
       "    </tr>\n",
       "  </tbody>\n",
       "</table>\n",
       "<p>101000 rows × 2 columns</p>\n",
       "</div>"
      ],
      "text/plain": [
       "                                                 Filepath      Label\n",
       "0       C:\\Users\\Abdallah\\Documents\\Task5\\Data\\food-10...  apple_pie\n",
       "1       C:\\Users\\Abdallah\\Documents\\Task5\\Data\\food-10...  apple_pie\n",
       "2       C:\\Users\\Abdallah\\Documents\\Task5\\Data\\food-10...  apple_pie\n",
       "3       C:\\Users\\Abdallah\\Documents\\Task5\\Data\\food-10...  apple_pie\n",
       "4       C:\\Users\\Abdallah\\Documents\\Task5\\Data\\food-10...  apple_pie\n",
       "...                                                   ...        ...\n",
       "100995  C:\\Users\\Abdallah\\Documents\\Task5\\Data\\food-10...    waffles\n",
       "100996  C:\\Users\\Abdallah\\Documents\\Task5\\Data\\food-10...    waffles\n",
       "100997  C:\\Users\\Abdallah\\Documents\\Task5\\Data\\food-10...    waffles\n",
       "100998  C:\\Users\\Abdallah\\Documents\\Task5\\Data\\food-10...    waffles\n",
       "100999  C:\\Users\\Abdallah\\Documents\\Task5\\Data\\food-10...    waffles\n",
       "\n",
       "[101000 rows x 2 columns]"
      ]
     },
     "execution_count": 105,
     "metadata": {},
     "output_type": "execute_result"
    }
   ],
   "source": [
    "images"
   ]
  },
  {
   "cell_type": "markdown",
   "id": "d045c31f-87a7-4355-a78d-aed23acc55b4",
   "metadata": {},
   "source": [
    "## now let's try to take only 100 image randomly from our previous example for each food-type "
   ]
  },
  {
   "cell_type": "code",
   "execution_count": 21,
   "id": "0cfbe3c7-bde7-4c57-aa7e-4c4da244b749",
   "metadata": {
    "jupyter": {
     "source_hidden": true
    }
   },
   "outputs": [],
   "source": [
    "category_samples = []"
   ]
  },
  {
   "cell_type": "code",
   "execution_count": 22,
   "id": "d22e928e-86f1-4471-b22d-d82ce4dc2d4e",
   "metadata": {},
   "outputs": [],
   "source": [
    " for category in images['Label'].unique():\n",
    "     category_slice = images.query(\"Label == @category\")\n",
    "     category_samples.append(category_slice.sample(100, random_state=1))\n",
    "# here we concat the list of each food type to create only one dataframe     \n",
    "image_df = pd.concat(category_samples, axis=0).sample(frac=1.0, random_state=1).reset_index(drop=True)"
   ]
  },
  {
   "cell_type": "code",
   "execution_count": 138,
   "id": "be30ce91-52f5-4f72-81ab-464ab457beb4",
   "metadata": {},
   "outputs": [
    {
     "data": {
      "text/html": [
       "<div>\n",
       "<style scoped>\n",
       "    .dataframe tbody tr th:only-of-type {\n",
       "        vertical-align: middle;\n",
       "    }\n",
       "\n",
       "    .dataframe tbody tr th {\n",
       "        vertical-align: top;\n",
       "    }\n",
       "\n",
       "    .dataframe thead th {\n",
       "        text-align: right;\n",
       "    }\n",
       "</style>\n",
       "<table border=\"1\" class=\"dataframe\">\n",
       "  <thead>\n",
       "    <tr style=\"text-align: right;\">\n",
       "      <th></th>\n",
       "      <th>Filepath</th>\n",
       "      <th>Label</th>\n",
       "    </tr>\n",
       "  </thead>\n",
       "  <tbody>\n",
       "    <tr>\n",
       "      <th>0</th>\n",
       "      <td>C:\\Users\\Abdallah\\Documents\\Task5\\Data\\food-10...</td>\n",
       "      <td>carrot_cake</td>\n",
       "    </tr>\n",
       "    <tr>\n",
       "      <th>1</th>\n",
       "      <td>C:\\Users\\Abdallah\\Documents\\Task5\\Data\\food-10...</td>\n",
       "      <td>gnocchi</td>\n",
       "    </tr>\n",
       "    <tr>\n",
       "      <th>2</th>\n",
       "      <td>C:\\Users\\Abdallah\\Documents\\Task5\\Data\\food-10...</td>\n",
       "      <td>bibimbap</td>\n",
       "    </tr>\n",
       "    <tr>\n",
       "      <th>3</th>\n",
       "      <td>C:\\Users\\Abdallah\\Documents\\Task5\\Data\\food-10...</td>\n",
       "      <td>gnocchi</td>\n",
       "    </tr>\n",
       "    <tr>\n",
       "      <th>4</th>\n",
       "      <td>C:\\Users\\Abdallah\\Documents\\Task5\\Data\\food-10...</td>\n",
       "      <td>poutine</td>\n",
       "    </tr>\n",
       "    <tr>\n",
       "      <th>...</th>\n",
       "      <td>...</td>\n",
       "      <td>...</td>\n",
       "    </tr>\n",
       "    <tr>\n",
       "      <th>111095</th>\n",
       "      <td>C:\\Users\\Abdallah\\Documents\\Task5\\Data\\food-10...</td>\n",
       "      <td>foie_gras</td>\n",
       "    </tr>\n",
       "    <tr>\n",
       "      <th>111096</th>\n",
       "      <td>C:\\Users\\Abdallah\\Documents\\Task5\\Data\\food-10...</td>\n",
       "      <td>scallops</td>\n",
       "    </tr>\n",
       "    <tr>\n",
       "      <th>111097</th>\n",
       "      <td>C:\\Users\\Abdallah\\Documents\\Task5\\Data\\food-10...</td>\n",
       "      <td>guacamole</td>\n",
       "    </tr>\n",
       "    <tr>\n",
       "      <th>111098</th>\n",
       "      <td>C:\\Users\\Abdallah\\Documents\\Task5\\Data\\food-10...</td>\n",
       "      <td>omelette</td>\n",
       "    </tr>\n",
       "    <tr>\n",
       "      <th>111099</th>\n",
       "      <td>C:\\Users\\Abdallah\\Documents\\Task5\\Data\\food-10...</td>\n",
       "      <td>seaweed_salad</td>\n",
       "    </tr>\n",
       "  </tbody>\n",
       "</table>\n",
       "<p>111100 rows × 2 columns</p>\n",
       "</div>"
      ],
      "text/plain": [
       "                                                 Filepath          Label\n",
       "0       C:\\Users\\Abdallah\\Documents\\Task5\\Data\\food-10...    carrot_cake\n",
       "1       C:\\Users\\Abdallah\\Documents\\Task5\\Data\\food-10...        gnocchi\n",
       "2       C:\\Users\\Abdallah\\Documents\\Task5\\Data\\food-10...       bibimbap\n",
       "3       C:\\Users\\Abdallah\\Documents\\Task5\\Data\\food-10...        gnocchi\n",
       "4       C:\\Users\\Abdallah\\Documents\\Task5\\Data\\food-10...        poutine\n",
       "...                                                   ...            ...\n",
       "111095  C:\\Users\\Abdallah\\Documents\\Task5\\Data\\food-10...      foie_gras\n",
       "111096  C:\\Users\\Abdallah\\Documents\\Task5\\Data\\food-10...       scallops\n",
       "111097  C:\\Users\\Abdallah\\Documents\\Task5\\Data\\food-10...      guacamole\n",
       "111098  C:\\Users\\Abdallah\\Documents\\Task5\\Data\\food-10...       omelette\n",
       "111099  C:\\Users\\Abdallah\\Documents\\Task5\\Data\\food-10...  seaweed_salad\n",
       "\n",
       "[111100 rows x 2 columns]"
      ]
     },
     "execution_count": 138,
     "metadata": {},
     "output_type": "execute_result"
    }
   ],
   "source": [
    "image_df"
   ]
  },
  {
   "cell_type": "markdown",
   "id": "9ead37cb-376b-401e-9f6f-e1883ecee1ce",
   "metadata": {},
   "source": [
    "## that's it ,the data used , now because tensorflow accept only numerical values let's try to make the labels as integer from 0 to 100 instead of using the string labels and of curse the images will become matrice to be accepted"
   ]
  },
  {
   "cell_type": "code",
   "execution_count": 23,
   "id": "b974a89e-b841-4ee9-aa26-c2bbc010d1c3",
   "metadata": {},
   "outputs": [],
   "source": [
    "unique_labels = image_df['Label'].unique()\n",
    "label_to_int = {label: i for i, label in enumerate(unique_labels)}\n",
    "image_df['Label'] = image_df['Label'].map(label_to_int)\n"
   ]
  },
  {
   "cell_type": "code",
   "execution_count": 140,
   "id": "98821957-53b7-492c-8e56-004515258403",
   "metadata": {
    "scrolled": true
   },
   "outputs": [
    {
     "data": {
      "text/html": [
       "<div>\n",
       "<style scoped>\n",
       "    .dataframe tbody tr th:only-of-type {\n",
       "        vertical-align: middle;\n",
       "    }\n",
       "\n",
       "    .dataframe tbody tr th {\n",
       "        vertical-align: top;\n",
       "    }\n",
       "\n",
       "    .dataframe thead th {\n",
       "        text-align: right;\n",
       "    }\n",
       "</style>\n",
       "<table border=\"1\" class=\"dataframe\">\n",
       "  <thead>\n",
       "    <tr style=\"text-align: right;\">\n",
       "      <th></th>\n",
       "      <th>Filepath</th>\n",
       "      <th>Label</th>\n",
       "    </tr>\n",
       "  </thead>\n",
       "  <tbody>\n",
       "    <tr>\n",
       "      <th>0</th>\n",
       "      <td>C:\\Users\\Abdallah\\Documents\\Task5\\Data\\food-10...</td>\n",
       "      <td>0</td>\n",
       "    </tr>\n",
       "    <tr>\n",
       "      <th>1</th>\n",
       "      <td>C:\\Users\\Abdallah\\Documents\\Task5\\Data\\food-10...</td>\n",
       "      <td>1</td>\n",
       "    </tr>\n",
       "    <tr>\n",
       "      <th>2</th>\n",
       "      <td>C:\\Users\\Abdallah\\Documents\\Task5\\Data\\food-10...</td>\n",
       "      <td>2</td>\n",
       "    </tr>\n",
       "    <tr>\n",
       "      <th>3</th>\n",
       "      <td>C:\\Users\\Abdallah\\Documents\\Task5\\Data\\food-10...</td>\n",
       "      <td>1</td>\n",
       "    </tr>\n",
       "    <tr>\n",
       "      <th>4</th>\n",
       "      <td>C:\\Users\\Abdallah\\Documents\\Task5\\Data\\food-10...</td>\n",
       "      <td>3</td>\n",
       "    </tr>\n",
       "    <tr>\n",
       "      <th>...</th>\n",
       "      <td>...</td>\n",
       "      <td>...</td>\n",
       "    </tr>\n",
       "    <tr>\n",
       "      <th>111095</th>\n",
       "      <td>C:\\Users\\Abdallah\\Documents\\Task5\\Data\\food-10...</td>\n",
       "      <td>34</td>\n",
       "    </tr>\n",
       "    <tr>\n",
       "      <th>111096</th>\n",
       "      <td>C:\\Users\\Abdallah\\Documents\\Task5\\Data\\food-10...</td>\n",
       "      <td>10</td>\n",
       "    </tr>\n",
       "    <tr>\n",
       "      <th>111097</th>\n",
       "      <td>C:\\Users\\Abdallah\\Documents\\Task5\\Data\\food-10...</td>\n",
       "      <td>91</td>\n",
       "    </tr>\n",
       "    <tr>\n",
       "      <th>111098</th>\n",
       "      <td>C:\\Users\\Abdallah\\Documents\\Task5\\Data\\food-10...</td>\n",
       "      <td>12</td>\n",
       "    </tr>\n",
       "    <tr>\n",
       "      <th>111099</th>\n",
       "      <td>C:\\Users\\Abdallah\\Documents\\Task5\\Data\\food-10...</td>\n",
       "      <td>58</td>\n",
       "    </tr>\n",
       "  </tbody>\n",
       "</table>\n",
       "<p>111100 rows × 2 columns</p>\n",
       "</div>"
      ],
      "text/plain": [
       "                                                 Filepath  Label\n",
       "0       C:\\Users\\Abdallah\\Documents\\Task5\\Data\\food-10...      0\n",
       "1       C:\\Users\\Abdallah\\Documents\\Task5\\Data\\food-10...      1\n",
       "2       C:\\Users\\Abdallah\\Documents\\Task5\\Data\\food-10...      2\n",
       "3       C:\\Users\\Abdallah\\Documents\\Task5\\Data\\food-10...      1\n",
       "4       C:\\Users\\Abdallah\\Documents\\Task5\\Data\\food-10...      3\n",
       "...                                                   ...    ...\n",
       "111095  C:\\Users\\Abdallah\\Documents\\Task5\\Data\\food-10...     34\n",
       "111096  C:\\Users\\Abdallah\\Documents\\Task5\\Data\\food-10...     10\n",
       "111097  C:\\Users\\Abdallah\\Documents\\Task5\\Data\\food-10...     91\n",
       "111098  C:\\Users\\Abdallah\\Documents\\Task5\\Data\\food-10...     12\n",
       "111099  C:\\Users\\Abdallah\\Documents\\Task5\\Data\\food-10...     58\n",
       "\n",
       "[111100 rows x 2 columns]"
      ]
     },
     "execution_count": 140,
     "metadata": {},
     "output_type": "execute_result"
    }
   ],
   "source": [
    "image_df"
   ]
  },
  {
   "cell_type": "markdown",
   "id": "61d7eeb1-e4d7-4a67-a3f4-51ff459d258b",
   "metadata": {},
   "source": [
    "## now before create the tensorflow dataset let's try to reduce the size of image from 255-255 to 32-32 pixels then normalize the pixel values to become between 0 and 1 "
   ]
  },
  {
   "cell_type": "code",
   "execution_count": 24,
   "id": "3aa47813-97db-4978-a455-ff56d6be6600",
   "metadata": {},
   "outputs": [],
   "source": [
    "@tf.function\n",
    "def load_and_preprocess_image(filepath, label):\n",
    "    try:\n",
    "        image = tf.io.read_file(filepath)\n",
    "        image = tf.image.decode_jpeg(image, channels=3)\n",
    "        image = tf.image.resize(image, [32, 32])\n",
    "        image = image / 255.0\n",
    "    except tf.errors.InvalidArgumentError as e:\n",
    "        print(f\"Error processing file {filepath}: {e}\")\n",
    "        return None, label\n",
    "    return image, label"
   ]
  },
  {
   "cell_type": "markdown",
   "id": "89e554ef-a937-47cb-8ba0-0bfd457bd921",
   "metadata": {},
   "source": [
    "# that it, this is the time to load the new images processed to the tensorflow dataset"
   ]
  },
  {
   "cell_type": "code",
   "execution_count": 25,
   "id": "1c30ebc7-526d-4a7d-977d-bd61b046dff9",
   "metadata": {},
   "outputs": [
    {
     "name": "stdout",
     "output_type": "stream",
     "text": [
      "10100\n"
     ]
    }
   ],
   "source": [
    "image_paths = image_df['Filepath'].values\n",
    "print(len(image_paths))\n",
    "labels = image_df['Label'].values\n",
    "dataset = tf.data.Dataset.from_tensor_slices((image_paths, labels))\n",
    "\n",
    "# Apply the load and preprocess function\n",
    "dataset = dataset.map(load_and_preprocess_image)\n",
    "dataset = dataset.filter(lambda image, label: image is not None)"
   ]
  },
  {
   "cell_type": "markdown",
   "id": "6d97d17b-6277-4cad-9965-faabc2d758e8",
   "metadata": {},
   "source": [
    "## before we create the dataset let's try to add more features Shuffle, batch, and prefetch for optimal performance during training "
   ]
  },
  {
   "cell_type": "code",
   "execution_count": 26,
   "id": "5dc016ba-73ad-4d63-82a0-4e26c040a35d",
   "metadata": {},
   "outputs": [],
   "source": [
    "dataset = dataset.shuffle(buffer_size=len(image_df)).batch(32).prefetch(tf.data.AUTOTUNE)"
   ]
  },
  {
   "cell_type": "markdown",
   "id": "c1c56e64-078b-4a98-9209-bfd827b39a07",
   "metadata": {},
   "source": [
    "# now let's try to split the dataset to train dataset 70% and test dataset 30%"
   ]
  },
  {
   "cell_type": "code",
   "execution_count": 42,
   "id": "b9839935-b3cb-4df9-aca2-2bf32b7f328b",
   "metadata": {},
   "outputs": [],
   "source": [
    "# Assuming 'dataset' is your TensorFlow dataset\n",
    "DATASET_SIZE = len(list(dataset))\n",
    "# Calculate the size of training and testing datasets\n",
    "train_size = int(0.7 * DATASET_SIZE)\n",
    "test_size = DATASET_SIZE - train_size\n",
    "\n",
    "# Split the dataset\n",
    "train_df = dataset.take(train_size)\n",
    "test_df = dataset.skip(train_size)"
   ]
  },
  {
   "cell_type": "markdown",
   "id": "e860e98a-5645-4844-86e5-c434e621a534",
   "metadata": {},
   "source": [
    " now let's build our neural network that take as input image matrice 32-32 preprocessed with RGB coloring type and then we use three layeres CONV2D layer with 32 conventual filter to split the image to 32 diffrent channels with tail of 30 for each channel and then we apply CONV2D operation that's use in each channel the product of each filter in the channel with input matrice first 3-3 lines and columns and calculate the sum of result matrice and add to him the bias and apply to the result a relu fonction and put the result in the first line and column of the first channel matrice then it's move column by column and line by line in the input matrice to complete each channel matrice .\n",
    " then he move to MaxPooling2D layer that's takes the max value of each 2-2 elements in the input matrice to reduce the size of image from 30-30 to 15-15 .\n",
    " we do this layers two times to reduce the size of matrice and then we take the output of this layers and make them as input to the flatten layer that is responsible of transfer n-dimensionnel matrice to 1-dimensionnel matrice to give it with easy way as output to each neuron in dense layer with relu activation mode to elimnate the cases of negatives values which can reduce the calculations in the next layer softmax which is final layer responsible of classfication to 101 food type "
   ]
  },
  {
   "cell_type": "code",
   "execution_count": 31,
   "id": "f838f8db-2b31-413d-92fc-80f3ed190345",
   "metadata": {},
   "outputs": [],
   "source": [
    "model=models.Sequential()"
   ]
  },
  {
   "cell_type": "code",
   "execution_count": 32,
   "id": "50c8edcd-bfa4-4ad8-b734-cc598ccad040",
   "metadata": {},
   "outputs": [],
   "source": [
    "from tensorflow.keras import layers, models\n",
    "\n",
    "model = models.Sequential([\n",
    "    layers.Input(shape=(32, 32, 3)),  # Define the input shape here\n",
    "    layers.Conv2D(32, (3, 3), activation='relu'),\n",
    "    layers.MaxPooling2D((2,2)),\n",
    "    layers.Conv2D(64, (3, 3), activation='relu'),\n",
    "    layers.MaxPooling2D((2,2)),\n",
    "    layers.Conv2D(64, (3, 3), activation='relu'),\n",
    "    layers.Flatten(),\n",
    "    layers.Dense(64, activation='relu'),\n",
    "    layers.Dense(101, activation='softmax')\n",
    "])"
   ]
  },
  {
   "cell_type": "code",
   "execution_count": 33,
   "id": "3fc42f05-32b0-476b-9eca-3aef6c47d8a9",
   "metadata": {
    "scrolled": true
   },
   "outputs": [
    {
     "data": {
      "text/html": [
       "<pre style=\"white-space:pre;overflow-x:auto;line-height:normal;font-family:Menlo,'DejaVu Sans Mono',consolas,'Courier New',monospace\"><span style=\"font-weight: bold\">Model: \"sequential_2\"</span>\n",
       "</pre>\n"
      ],
      "text/plain": [
       "\u001b[1mModel: \"sequential_2\"\u001b[0m\n"
      ]
     },
     "metadata": {},
     "output_type": "display_data"
    },
    {
     "data": {
      "text/html": [
       "<pre style=\"white-space:pre;overflow-x:auto;line-height:normal;font-family:Menlo,'DejaVu Sans Mono',consolas,'Courier New',monospace\">┏━━━━━━━━━━━━━━━━━━━━━━━━━━━━━━━━━━━━━━┳━━━━━━━━━━━━━━━━━━━━━━━━━━━━━┳━━━━━━━━━━━━━━━━━┓\n",
       "┃<span style=\"font-weight: bold\"> Layer (type)                         </span>┃<span style=\"font-weight: bold\"> Output Shape                </span>┃<span style=\"font-weight: bold\">         Param # </span>┃\n",
       "┡━━━━━━━━━━━━━━━━━━━━━━━━━━━━━━━━━━━━━━╇━━━━━━━━━━━━━━━━━━━━━━━━━━━━━╇━━━━━━━━━━━━━━━━━┩\n",
       "│ conv2d (<span style=\"color: #0087ff; text-decoration-color: #0087ff\">Conv2D</span>)                      │ (<span style=\"color: #00d7ff; text-decoration-color: #00d7ff\">None</span>, <span style=\"color: #00af00; text-decoration-color: #00af00\">30</span>, <span style=\"color: #00af00; text-decoration-color: #00af00\">30</span>, <span style=\"color: #00af00; text-decoration-color: #00af00\">32</span>)          │             <span style=\"color: #00af00; text-decoration-color: #00af00\">896</span> │\n",
       "├──────────────────────────────────────┼─────────────────────────────┼─────────────────┤\n",
       "│ max_pooling2d (<span style=\"color: #0087ff; text-decoration-color: #0087ff\">MaxPooling2D</span>)         │ (<span style=\"color: #00d7ff; text-decoration-color: #00d7ff\">None</span>, <span style=\"color: #00af00; text-decoration-color: #00af00\">15</span>, <span style=\"color: #00af00; text-decoration-color: #00af00\">15</span>, <span style=\"color: #00af00; text-decoration-color: #00af00\">32</span>)          │               <span style=\"color: #00af00; text-decoration-color: #00af00\">0</span> │\n",
       "├──────────────────────────────────────┼─────────────────────────────┼─────────────────┤\n",
       "│ conv2d_1 (<span style=\"color: #0087ff; text-decoration-color: #0087ff\">Conv2D</span>)                    │ (<span style=\"color: #00d7ff; text-decoration-color: #00d7ff\">None</span>, <span style=\"color: #00af00; text-decoration-color: #00af00\">13</span>, <span style=\"color: #00af00; text-decoration-color: #00af00\">13</span>, <span style=\"color: #00af00; text-decoration-color: #00af00\">64</span>)          │          <span style=\"color: #00af00; text-decoration-color: #00af00\">18,496</span> │\n",
       "├──────────────────────────────────────┼─────────────────────────────┼─────────────────┤\n",
       "│ max_pooling2d_1 (<span style=\"color: #0087ff; text-decoration-color: #0087ff\">MaxPooling2D</span>)       │ (<span style=\"color: #00d7ff; text-decoration-color: #00d7ff\">None</span>, <span style=\"color: #00af00; text-decoration-color: #00af00\">6</span>, <span style=\"color: #00af00; text-decoration-color: #00af00\">6</span>, <span style=\"color: #00af00; text-decoration-color: #00af00\">64</span>)            │               <span style=\"color: #00af00; text-decoration-color: #00af00\">0</span> │\n",
       "├──────────────────────────────────────┼─────────────────────────────┼─────────────────┤\n",
       "│ conv2d_2 (<span style=\"color: #0087ff; text-decoration-color: #0087ff\">Conv2D</span>)                    │ (<span style=\"color: #00d7ff; text-decoration-color: #00d7ff\">None</span>, <span style=\"color: #00af00; text-decoration-color: #00af00\">4</span>, <span style=\"color: #00af00; text-decoration-color: #00af00\">4</span>, <span style=\"color: #00af00; text-decoration-color: #00af00\">64</span>)            │          <span style=\"color: #00af00; text-decoration-color: #00af00\">36,928</span> │\n",
       "├──────────────────────────────────────┼─────────────────────────────┼─────────────────┤\n",
       "│ flatten (<span style=\"color: #0087ff; text-decoration-color: #0087ff\">Flatten</span>)                    │ (<span style=\"color: #00d7ff; text-decoration-color: #00d7ff\">None</span>, <span style=\"color: #00af00; text-decoration-color: #00af00\">1024</span>)                │               <span style=\"color: #00af00; text-decoration-color: #00af00\">0</span> │\n",
       "├──────────────────────────────────────┼─────────────────────────────┼─────────────────┤\n",
       "│ dense (<span style=\"color: #0087ff; text-decoration-color: #0087ff\">Dense</span>)                        │ (<span style=\"color: #00d7ff; text-decoration-color: #00d7ff\">None</span>, <span style=\"color: #00af00; text-decoration-color: #00af00\">64</span>)                  │          <span style=\"color: #00af00; text-decoration-color: #00af00\">65,600</span> │\n",
       "├──────────────────────────────────────┼─────────────────────────────┼─────────────────┤\n",
       "│ dense_1 (<span style=\"color: #0087ff; text-decoration-color: #0087ff\">Dense</span>)                      │ (<span style=\"color: #00d7ff; text-decoration-color: #00d7ff\">None</span>, <span style=\"color: #00af00; text-decoration-color: #00af00\">101</span>)                 │           <span style=\"color: #00af00; text-decoration-color: #00af00\">6,565</span> │\n",
       "└──────────────────────────────────────┴─────────────────────────────┴─────────────────┘\n",
       "</pre>\n"
      ],
      "text/plain": [
       "┏━━━━━━━━━━━━━━━━━━━━━━━━━━━━━━━━━━━━━━┳━━━━━━━━━━━━━━━━━━━━━━━━━━━━━┳━━━━━━━━━━━━━━━━━┓\n",
       "┃\u001b[1m \u001b[0m\u001b[1mLayer (type)                        \u001b[0m\u001b[1m \u001b[0m┃\u001b[1m \u001b[0m\u001b[1mOutput Shape               \u001b[0m\u001b[1m \u001b[0m┃\u001b[1m \u001b[0m\u001b[1m        Param #\u001b[0m\u001b[1m \u001b[0m┃\n",
       "┡━━━━━━━━━━━━━━━━━━━━━━━━━━━━━━━━━━━━━━╇━━━━━━━━━━━━━━━━━━━━━━━━━━━━━╇━━━━━━━━━━━━━━━━━┩\n",
       "│ conv2d (\u001b[38;5;33mConv2D\u001b[0m)                      │ (\u001b[38;5;45mNone\u001b[0m, \u001b[38;5;34m30\u001b[0m, \u001b[38;5;34m30\u001b[0m, \u001b[38;5;34m32\u001b[0m)          │             \u001b[38;5;34m896\u001b[0m │\n",
       "├──────────────────────────────────────┼─────────────────────────────┼─────────────────┤\n",
       "│ max_pooling2d (\u001b[38;5;33mMaxPooling2D\u001b[0m)         │ (\u001b[38;5;45mNone\u001b[0m, \u001b[38;5;34m15\u001b[0m, \u001b[38;5;34m15\u001b[0m, \u001b[38;5;34m32\u001b[0m)          │               \u001b[38;5;34m0\u001b[0m │\n",
       "├──────────────────────────────────────┼─────────────────────────────┼─────────────────┤\n",
       "│ conv2d_1 (\u001b[38;5;33mConv2D\u001b[0m)                    │ (\u001b[38;5;45mNone\u001b[0m, \u001b[38;5;34m13\u001b[0m, \u001b[38;5;34m13\u001b[0m, \u001b[38;5;34m64\u001b[0m)          │          \u001b[38;5;34m18,496\u001b[0m │\n",
       "├──────────────────────────────────────┼─────────────────────────────┼─────────────────┤\n",
       "│ max_pooling2d_1 (\u001b[38;5;33mMaxPooling2D\u001b[0m)       │ (\u001b[38;5;45mNone\u001b[0m, \u001b[38;5;34m6\u001b[0m, \u001b[38;5;34m6\u001b[0m, \u001b[38;5;34m64\u001b[0m)            │               \u001b[38;5;34m0\u001b[0m │\n",
       "├──────────────────────────────────────┼─────────────────────────────┼─────────────────┤\n",
       "│ conv2d_2 (\u001b[38;5;33mConv2D\u001b[0m)                    │ (\u001b[38;5;45mNone\u001b[0m, \u001b[38;5;34m4\u001b[0m, \u001b[38;5;34m4\u001b[0m, \u001b[38;5;34m64\u001b[0m)            │          \u001b[38;5;34m36,928\u001b[0m │\n",
       "├──────────────────────────────────────┼─────────────────────────────┼─────────────────┤\n",
       "│ flatten (\u001b[38;5;33mFlatten\u001b[0m)                    │ (\u001b[38;5;45mNone\u001b[0m, \u001b[38;5;34m1024\u001b[0m)                │               \u001b[38;5;34m0\u001b[0m │\n",
       "├──────────────────────────────────────┼─────────────────────────────┼─────────────────┤\n",
       "│ dense (\u001b[38;5;33mDense\u001b[0m)                        │ (\u001b[38;5;45mNone\u001b[0m, \u001b[38;5;34m64\u001b[0m)                  │          \u001b[38;5;34m65,600\u001b[0m │\n",
       "├──────────────────────────────────────┼─────────────────────────────┼─────────────────┤\n",
       "│ dense_1 (\u001b[38;5;33mDense\u001b[0m)                      │ (\u001b[38;5;45mNone\u001b[0m, \u001b[38;5;34m101\u001b[0m)                 │           \u001b[38;5;34m6,565\u001b[0m │\n",
       "└──────────────────────────────────────┴─────────────────────────────┴─────────────────┘\n"
      ]
     },
     "metadata": {},
     "output_type": "display_data"
    },
    {
     "data": {
      "text/html": [
       "<pre style=\"white-space:pre;overflow-x:auto;line-height:normal;font-family:Menlo,'DejaVu Sans Mono',consolas,'Courier New',monospace\"><span style=\"font-weight: bold\"> Total params: </span><span style=\"color: #00af00; text-decoration-color: #00af00\">128,485</span> (501.89 KB)\n",
       "</pre>\n"
      ],
      "text/plain": [
       "\u001b[1m Total params: \u001b[0m\u001b[38;5;34m128,485\u001b[0m (501.89 KB)\n"
      ]
     },
     "metadata": {},
     "output_type": "display_data"
    },
    {
     "data": {
      "text/html": [
       "<pre style=\"white-space:pre;overflow-x:auto;line-height:normal;font-family:Menlo,'DejaVu Sans Mono',consolas,'Courier New',monospace\"><span style=\"font-weight: bold\"> Trainable params: </span><span style=\"color: #00af00; text-decoration-color: #00af00\">128,485</span> (501.89 KB)\n",
       "</pre>\n"
      ],
      "text/plain": [
       "\u001b[1m Trainable params: \u001b[0m\u001b[38;5;34m128,485\u001b[0m (501.89 KB)\n"
      ]
     },
     "metadata": {},
     "output_type": "display_data"
    },
    {
     "data": {
      "text/html": [
       "<pre style=\"white-space:pre;overflow-x:auto;line-height:normal;font-family:Menlo,'DejaVu Sans Mono',consolas,'Courier New',monospace\"><span style=\"font-weight: bold\"> Non-trainable params: </span><span style=\"color: #00af00; text-decoration-color: #00af00\">0</span> (0.00 B)\n",
       "</pre>\n"
      ],
      "text/plain": [
       "\u001b[1m Non-trainable params: \u001b[0m\u001b[38;5;34m0\u001b[0m (0.00 B)\n"
      ]
     },
     "metadata": {},
     "output_type": "display_data"
    }
   ],
   "source": [
    "model.summary()"
   ]
  },
  {
   "cell_type": "markdown",
   "id": "7ebba625-de55-4e36-977c-a491c9cb23d9",
   "metadata": {},
   "source": [
    " now let's use adam algorithms for minimzing the loss fonction during the training and accuracy of each categoriy"
   ]
  },
  {
   "cell_type": "code",
   "execution_count": 34,
   "id": "f73ad4be-f977-4de4-93e8-440828f3f64d",
   "metadata": {},
   "outputs": [],
   "source": [
    "model.compile(optimizer='adam', loss='sparse_categorical_crossentropy', metrics=['accuracy'])"
   ]
  },
  {
   "cell_type": "markdown",
   "id": "7c8c938a-69d0-4945-bd8b-a1d42b7115d0",
   "metadata": {},
   "source": [
    "## now let's fit our model and train them for 30 times!!!!"
   ]
  },
  {
   "cell_type": "code",
   "execution_count": 37,
   "id": "3dca5a10-56f4-4fc1-8c66-4991443c0280",
   "metadata": {
    "scrolled": true
   },
   "outputs": [
    {
     "name": "stdout",
     "output_type": "stream",
     "text": [
      "Epoch 1/30\n",
      "\u001b[1m221/221\u001b[0m \u001b[32m━━━━━━━━━━━━━━━━━━━━\u001b[0m\u001b[37m\u001b[0m \u001b[1m19s\u001b[0m 51ms/step - accuracy: 0.3322 - loss: 2.6609 - val_accuracy: 0.3682 - val_loss: 2.5609\n",
      "Epoch 2/30\n",
      "\u001b[1m221/221\u001b[0m \u001b[32m━━━━━━━━━━━━━━━━━━━━\u001b[0m\u001b[37m\u001b[0m \u001b[1m20s\u001b[0m 52ms/step - accuracy: 0.3661 - loss: 2.5826 - val_accuracy: 0.4194 - val_loss: 2.3818\n",
      "Epoch 3/30\n",
      "\u001b[1m221/221\u001b[0m \u001b[32m━━━━━━━━━━━━━━━━━━━━\u001b[0m\u001b[37m\u001b[0m \u001b[1m20s\u001b[0m 54ms/step - accuracy: 0.3668 - loss: 2.5059 - val_accuracy: 0.4234 - val_loss: 2.3070\n",
      "Epoch 4/30\n",
      "\u001b[1m221/221\u001b[0m \u001b[32m━━━━━━━━━━━━━━━━━━━━\u001b[0m\u001b[37m\u001b[0m \u001b[1m21s\u001b[0m 55ms/step - accuracy: 0.4000 - loss: 2.3757 - val_accuracy: 0.4505 - val_loss: 2.1989\n",
      "Epoch 5/30\n",
      "\u001b[1m221/221\u001b[0m \u001b[32m━━━━━━━━━━━━━━━━━━━━\u001b[0m\u001b[37m\u001b[0m \u001b[1m20s\u001b[0m 54ms/step - accuracy: 0.4359 - loss: 2.2207 - val_accuracy: 0.4425 - val_loss: 2.2137\n",
      "Epoch 6/30\n",
      "\u001b[1m221/221\u001b[0m \u001b[32m━━━━━━━━━━━━━━━━━━━━\u001b[0m\u001b[37m\u001b[0m \u001b[1m20s\u001b[0m 54ms/step - accuracy: 0.4437 - loss: 2.1513 - val_accuracy: 0.4957 - val_loss: 2.0376\n",
      "Epoch 7/30\n",
      "\u001b[1m221/221\u001b[0m \u001b[32m━━━━━━━━━━━━━━━━━━━━\u001b[0m\u001b[37m\u001b[0m \u001b[1m20s\u001b[0m 57ms/step - accuracy: 0.4691 - loss: 2.0507 - val_accuracy: 0.5182 - val_loss: 1.9013\n",
      "Epoch 8/30\n",
      "\u001b[1m221/221\u001b[0m \u001b[32m━━━━━━━━━━━━━━━━━━━━\u001b[0m\u001b[37m\u001b[0m \u001b[1m20s\u001b[0m 54ms/step - accuracy: 0.4995 - loss: 1.9383 - val_accuracy: 0.5423 - val_loss: 1.7956\n",
      "Epoch 9/30\n",
      "\u001b[1m221/221\u001b[0m \u001b[32m━━━━━━━━━━━━━━━━━━━━\u001b[0m\u001b[37m\u001b[0m \u001b[1m21s\u001b[0m 56ms/step - accuracy: 0.5228 - loss: 1.8758 - val_accuracy: 0.5905 - val_loss: 1.6375\n",
      "Epoch 10/30\n",
      "\u001b[1m221/221\u001b[0m \u001b[32m━━━━━━━━━━━━━━━━━━━━\u001b[0m\u001b[37m\u001b[0m \u001b[1m20s\u001b[0m 56ms/step - accuracy: 0.5534 - loss: 1.7295 - val_accuracy: 0.6106 - val_loss: 1.5556\n",
      "Epoch 11/30\n",
      "\u001b[1m221/221\u001b[0m \u001b[32m━━━━━━━━━━━━━━━━━━━━\u001b[0m\u001b[37m\u001b[0m \u001b[1m21s\u001b[0m 56ms/step - accuracy: 0.5812 - loss: 1.6202 - val_accuracy: 0.6024 - val_loss: 1.5034\n",
      "Epoch 12/30\n",
      "\u001b[1m221/221\u001b[0m \u001b[32m━━━━━━━━━━━━━━━━━━━━\u001b[0m\u001b[37m\u001b[0m \u001b[1m21s\u001b[0m 56ms/step - accuracy: 0.5968 - loss: 1.5590 - val_accuracy: 0.6387 - val_loss: 1.4216\n",
      "Epoch 13/30\n",
      "\u001b[1m221/221\u001b[0m \u001b[32m━━━━━━━━━━━━━━━━━━━━\u001b[0m\u001b[37m\u001b[0m \u001b[1m21s\u001b[0m 57ms/step - accuracy: 0.6150 - loss: 1.4779 - val_accuracy: 0.6443 - val_loss: 1.3679\n",
      "Epoch 14/30\n",
      "\u001b[1m221/221\u001b[0m \u001b[32m━━━━━━━━━━━━━━━━━━━━\u001b[0m\u001b[37m\u001b[0m \u001b[1m21s\u001b[0m 59ms/step - accuracy: 0.6486 - loss: 1.3530 - val_accuracy: 0.6820 - val_loss: 1.2327\n",
      "Epoch 15/30\n",
      "\u001b[1m221/221\u001b[0m \u001b[32m━━━━━━━━━━━━━━━━━━━━\u001b[0m\u001b[37m\u001b[0m \u001b[1m22s\u001b[0m 60ms/step - accuracy: 0.6627 - loss: 1.2752 - val_accuracy: 0.6876 - val_loss: 1.2033\n",
      "Epoch 16/30\n",
      "\u001b[1m221/221\u001b[0m \u001b[32m━━━━━━━━━━━━━━━━━━━━\u001b[0m\u001b[37m\u001b[0m \u001b[1m21s\u001b[0m 57ms/step - accuracy: 0.6752 - loss: 1.1890 - val_accuracy: 0.7219 - val_loss: 1.0961\n",
      "Epoch 17/30\n",
      "\u001b[1m221/221\u001b[0m \u001b[32m━━━━━━━━━━━━━━━━━━━━\u001b[0m\u001b[37m\u001b[0m \u001b[1m21s\u001b[0m 57ms/step - accuracy: 0.6952 - loss: 1.1595 - val_accuracy: 0.7335 - val_loss: 1.0057\n",
      "Epoch 18/30\n",
      "\u001b[1m221/221\u001b[0m \u001b[32m━━━━━━━━━━━━━━━━━━━━\u001b[0m\u001b[37m\u001b[0m \u001b[1m22s\u001b[0m 57ms/step - accuracy: 0.7218 - loss: 1.0634 - val_accuracy: 0.7616 - val_loss: 0.9048\n",
      "Epoch 19/30\n",
      "\u001b[1m221/221\u001b[0m \u001b[32m━━━━━━━━━━━━━━━━━━━━\u001b[0m\u001b[37m\u001b[0m \u001b[1m21s\u001b[0m 57ms/step - accuracy: 0.7272 - loss: 1.0121 - val_accuracy: 0.7715 - val_loss: 0.9024\n",
      "Epoch 20/30\n",
      "\u001b[1m221/221\u001b[0m \u001b[32m━━━━━━━━━━━━━━━━━━━━\u001b[0m\u001b[37m\u001b[0m \u001b[1m21s\u001b[0m 59ms/step - accuracy: 0.7481 - loss: 0.9219 - val_accuracy: 0.7906 - val_loss: 0.8241\n",
      "Epoch 21/30\n",
      "\u001b[1m221/221\u001b[0m \u001b[32m━━━━━━━━━━━━━━━━━━━━\u001b[0m\u001b[37m\u001b[0m \u001b[1m21s\u001b[0m 58ms/step - accuracy: 0.7630 - loss: 0.8629 - val_accuracy: 0.7900 - val_loss: 0.8016\n",
      "Epoch 22/30\n",
      "\u001b[1m221/221\u001b[0m \u001b[32m━━━━━━━━━━━━━━━━━━━━\u001b[0m\u001b[37m\u001b[0m \u001b[1m21s\u001b[0m 57ms/step - accuracy: 0.7761 - loss: 0.8169 - val_accuracy: 0.8094 - val_loss: 0.7281\n",
      "Epoch 23/30\n",
      "\u001b[1m221/221\u001b[0m \u001b[32m━━━━━━━━━━━━━━━━━━━━\u001b[0m\u001b[37m\u001b[0m \u001b[1m21s\u001b[0m 57ms/step - accuracy: 0.8072 - loss: 0.7317 - val_accuracy: 0.7982 - val_loss: 0.7262\n",
      "Epoch 24/30\n",
      "\u001b[1m221/221\u001b[0m \u001b[32m━━━━━━━━━━━━━━━━━━━━\u001b[0m\u001b[37m\u001b[0m \u001b[1m22s\u001b[0m 58ms/step - accuracy: 0.8142 - loss: 0.6999 - val_accuracy: 0.8269 - val_loss: 0.6410\n",
      "Epoch 25/30\n",
      "\u001b[1m221/221\u001b[0m \u001b[32m━━━━━━━━━━━━━━━━━━━━\u001b[0m\u001b[37m\u001b[0m \u001b[1m23s\u001b[0m 64ms/step - accuracy: 0.8195 - loss: 0.6745 - val_accuracy: 0.8540 - val_loss: 0.5694\n",
      "Epoch 26/30\n",
      "\u001b[1m221/221\u001b[0m \u001b[32m━━━━━━━━━━━━━━━━━━━━\u001b[0m\u001b[37m\u001b[0m \u001b[1m22s\u001b[0m 58ms/step - accuracy: 0.8390 - loss: 0.5937 - val_accuracy: 0.8580 - val_loss: 0.5456\n",
      "Epoch 27/30\n",
      "\u001b[1m221/221\u001b[0m \u001b[32m━━━━━━━━━━━━━━━━━━━━\u001b[0m\u001b[37m\u001b[0m \u001b[1m21s\u001b[0m 59ms/step - accuracy: 0.8483 - loss: 0.5750 - val_accuracy: 0.8583 - val_loss: 0.5318\n",
      "Epoch 28/30\n",
      "\u001b[1m221/221\u001b[0m \u001b[32m━━━━━━━━━━━━━━━━━━━━\u001b[0m\u001b[37m\u001b[0m \u001b[1m22s\u001b[0m 59ms/step - accuracy: 0.8580 - loss: 0.5199 - val_accuracy: 0.8550 - val_loss: 0.5254\n",
      "Epoch 29/30\n",
      "\u001b[1m221/221\u001b[0m \u001b[32m━━━━━━━━━━━━━━━━━━━━\u001b[0m\u001b[37m\u001b[0m \u001b[1m22s\u001b[0m 59ms/step - accuracy: 0.8673 - loss: 0.5063 - val_accuracy: 0.9059 - val_loss: 0.3989\n",
      "Epoch 30/30\n",
      "\u001b[1m221/221\u001b[0m \u001b[32m━━━━━━━━━━━━━━━━━━━━\u001b[0m\u001b[37m\u001b[0m \u001b[1m21s\u001b[0m 58ms/step - accuracy: 0.8877 - loss: 0.4336 - val_accuracy: 0.8897 - val_loss: 0.4139\n"
     ]
    }
   ],
   "source": [
    "history=model.fit(train_df,epochs=30,validation_data=test_df)"
   ]
  },
  {
   "cell_type": "markdown",
   "id": "d94d144e-af84-46be-8c10-d8988932d8a7",
   "metadata": {},
   "source": [
    "# let's test it now with test dataset "
   ]
  },
  {
   "cell_type": "code",
   "execution_count": 41,
   "id": "cc860d7b-88a2-4dd5-a0be-1d72604d3da5",
   "metadata": {},
   "outputs": [
    {
     "name": "stdout",
     "output_type": "stream",
     "text": [
      "\u001b[1m95/95\u001b[0m \u001b[32m━━━━━━━━━━━━━━━━━━━━\u001b[0m\u001b[37m\u001b[0m \u001b[1m8s\u001b[0m 6ms/step - accuracy: 0.8952 - loss: 0.4136\n",
      "Test Loss: 0.42224016785621643\n",
      "Test Accuracy: 89.33289051055908 %\n"
     ]
    }
   ],
   "source": [
    "loss, accuracy = model.evaluate(test_df)\n",
    "print(f\"Test Loss: {loss}\")\n",
    "print(f\"Test Accuracy: {accuracy* 100} %\")"
   ]
  },
  {
   "cell_type": "code",
   "execution_count": 39,
   "id": "91f17624-c193-417c-aa8e-67c1268f4ce2",
   "metadata": {},
   "outputs": [],
   "source": [
    "# Save your trained model\n",
    "model.save('my_model.keras')"
   ]
  },
  {
   "cell_type": "code",
   "execution_count": 40,
   "id": "7a832312-2ee2-45b7-a8cf-1afe51dd6821",
   "metadata": {},
   "outputs": [
    {
     "data": {
      "image/png": "[encoded data removed]",
      "text/plain": [
       "<Figure size 1200x600 with 2 Axes>"
      ]
     },
     "metadata": {},
     "output_type": "display_data"
    }
   ],
   "source": [
    "import matplotlib.pyplot as plt\n",
    "\n",
    "# Ensure 'history' variable is defined and contains the history of the training process\n",
    "# This assumes 'history' is already available from a previous model.fit execution\n",
    "\n",
    "# Plot training & validation accuracy values\n",
    "plt.figure(figsize=(12, 6))\n",
    "plt.subplot(1, 2, 1)\n",
    "plt.plot(history.history['accuracy'])\n",
    "plt.plot(history.history['val_accuracy'])\n",
    "plt.title('Model Accuracy')\n",
    "plt.ylabel('Accuracy')\n",
    "plt.xlabel('Epoch')\n",
    "plt.legend(['Train', 'Test'], loc='upper left')\n",
    "\n",
    "# Plot training & validation loss values\n",
    "plt.subplot(1, 2, 2)\n",
    "plt.plot(history.history['loss'])\n",
    "plt.plot(history.history['val_loss'])\n",
    "plt.title('Model Loss')\n",
    "plt.ylabel('Loss')\n",
    "plt.xlabel('Epoch')\n",
    "plt.legend(['Train', 'Test'], loc='upper left')\n",
    "\n",
    "plt.tight_layout()\n",
    "plt.show()"
   ]
  },
  {
   "cell_type": "code",
   "execution_count": null,
   "id": "83bb73f0-205c-4849-bd97-5b3cd827da50",
   "metadata": {},
   "outputs": [],
   "source": []
  }
 ],
 "metadata": {
  "kernelspec": {
   "display_name": "Python 3 (ipykernel)",
   "language": "python",
   "name": "python3"
  },
  "language_info": {
   "codemirror_mode": {
    "name": "ipython",
    "version": 3
   },
   "file_extension": ".py",
   "mimetype": "text/x-python",
   "name": "python",
   "nbconvert_exporter": "python",
   "pygments_lexer": "ipython3",
   "version": "3.12.4"
  }
 },
 "nbformat": 4,
 "nbformat_minor": 5
}
